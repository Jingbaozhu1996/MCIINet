{
 "cells": [
  {
   "cell_type": "code",
   "execution_count": null,
   "metadata": {},
   "outputs": [],
   "source": [
    "#实际模型"
   ]
  },
  {
   "cell_type": "code",
   "execution_count": 1,
   "metadata": {},
   "outputs": [],
   "source": [
    "import os\n",
    "import sys\n",
    "import random\n",
    "import pandas as pd\n",
    "import numpy as np\n",
    "#import cv2\n",
    "import matplotlib.pyplot as plt\n",
    "\n",
    "import tensorflow as tf\n",
    "from tensorflow import keras\n",
    "## Seeding \n",
    "\n",
    "def setup_seed(seed):\n",
    "    random.seed(seed)  # 为python设置随机种子\n",
    "    np.random.seed(seed)  # 为numpy设置随机种子\n",
    "    tf.random.set_seed(seed)  # tf cpu fix seed\n",
    "    os.environ['TF_DETERMINISTIC_OPS'] = '1'  # tf gpu fix seed, please `pip install tensorflow-determinism` first\n",
    "\n",
    "setup_seed(2020)\n",
    "\n",
    "\n",
    "seed = 2020\n",
    "random.seed = 2020\n",
    "np.random.seed = 2020\n",
    "tf.seed = 2020\n",
    "tf.random.set_seed(2020)\n"
   ]
  },
  {
   "cell_type": "code",
   "execution_count": 2,
   "metadata": {},
   "outputs": [],
   "source": [
    "from keras.layers import add, ConvLSTM2D, Reshape, Dense, AveragePooling2D, Input, Conv2DTranspose, TimeDistributed, Dropout, Flatten\n",
    "from keras.callbacks import ModelCheckpoint, LearningRateScheduler\n",
    "from keras.layers import add, Reshape, Dense, Input, TimeDistributed, Dropout, Activation, LSTM, Conv1D, Cropping1D,GRU\n",
    "from keras.layers import MaxPooling1D, UpSampling1D, Cropping1D, SpatialDropout1D, Bidirectional, BatchNormalization \n",
    "from keras.models import Model, Sequential\n",
    "import keras\n",
    "from keras.models import Sequential\n",
    "from keras.layers.normalization import BatchNormalization\n",
    "from keras.layers.convolutional import Conv2D\n",
    "from keras.layers.convolutional import MaxPooling2D\n",
    "from keras.layers.core import Activation\n",
    "from keras.layers.core import Dropout\n",
    "from keras.layers.core import Dense\n",
    "from keras.layers import Flatten\n",
    "from keras.layers import Input\n",
    "from keras.models import Model\n",
    "from keras.callbacks import ModelCheckpoint, LearningRateScheduler\n",
    "from keras.callbacks import ReduceLROnPlateau\n",
    "from keras.callbacks import EarlyStopping\n",
    "from keras import metrics\n",
    "from keras.optimizers import Adam\n",
    "import matplotlib"
   ]
  },
  {
   "cell_type": "markdown",
   "metadata": {},
   "source": [
    "# 训练集"
   ]
  },
  {
   "cell_type": "code",
   "execution_count": 3,
   "metadata": {},
   "outputs": [
    {
     "name": "stdout",
     "output_type": "stream",
     "text": [
      "(5676, 900)\n"
     ]
    }
   ],
   "source": [
    "#时域模态信息\n",
    "\n",
    "import scipy.io as scio\n",
    "import pandas as pd\n",
    "\n",
    "#1 input\n",
    "feature1tr = r'\\训练集\\时域\\ACC_EW.mat'\n",
    "data1tr = scio.loadmat(feature1tr)\n",
    "AAtr=data1tr['ACC_EW']\n",
    "Atr=AAtr[:,0:300]\n",
    "\n",
    "feature2tr = r'\\训练集\\时域\\ACC_NS.mat'\n",
    "data2tr = scio.loadmat(feature2tr)\n",
    "BBtr=data2tr['ACC_NS']\n",
    "Btr=BBtr[:,0:300]\n",
    "\n",
    "feature3tr = r'\\训练集\\时域\\ACC_UD.mat'\n",
    "data3tr = scio.loadmat(feature3tr)\n",
    "CCtr=data3tr['ACC_UD']\n",
    "Ctr=CCtr[:,0:300]\n",
    "\n",
    "\n",
    "raw_data1tr=np.hstack((Atr,Btr))\n",
    "x_datatr=np.hstack((raw_data1tr,Ctr))\n",
    "\n",
    "print(x_datatr.shape)\n",
    "\n"
   ]
  },
  {
   "cell_type": "code",
   "execution_count": 4,
   "metadata": {},
   "outputs": [
    {
     "name": "stdout",
     "output_type": "stream",
     "text": [
      "(5676, 450)\n"
     ]
    }
   ],
   "source": [
    "#频域模态信息\n",
    "\n",
    "import scipy.io as scio\n",
    "import pandas as pd\n",
    "\n",
    "#input\n",
    "feature1str = r'\\训练集\\频谱\\3s\\spec_EW_seismic.mat'\n",
    "data1str = scio.loadmat(feature1str)\n",
    "AAstr=data1str['spec_EW_seismic']\n",
    "Astr=AAstr[:,0:150]\n",
    "\n",
    "feature2str = r'\\训练集\\频谱\\3s\\spec_NS_seismic.mat'\n",
    "data2str = scio.loadmat(feature2str)\n",
    "BBstr=data2str['spec_NS_seismic']\n",
    "Bstr=BBstr[:,0:150]\n",
    "\n",
    "feature3str = r'\\训练集\\频谱\\3s\\spec_UD_seismic.mat'\n",
    "data3str = scio.loadmat(feature3str)\n",
    "CCstr=data3str['spec_UD_seismic']\n",
    "Cstr=CCstr[:,0:150]\n",
    "\n",
    "\n",
    "\n",
    "raw_data1s=np.hstack((Astr,Bstr))\n",
    "x_datastr=np.hstack((raw_data1s,Cstr))\n",
    "\n",
    "print(x_datastr.shape)\n",
    "\n"
   ]
  },
  {
   "cell_type": "code",
   "execution_count": 5,
   "metadata": {},
   "outputs": [
    {
     "name": "stdout",
     "output_type": "stream",
     "text": [
      "[-2.44590229 -1.05275547 -0.37217339 -5.12400814 -2.33826046  1.39035392\n",
      "  1.62555399  1.01908469 -0.37389845 -2.19619784 -0.3752915  -3.89165263\n",
      "  4.0161749 ]\n",
      "(5676, 13)\n"
     ]
    }
   ],
   "source": [
    "#特征模态信息\n",
    "\n",
    "import scipy.io as scio\n",
    "import pandas as pd\n",
    "\n",
    "labeltr = pd.read_csv(open(r'\\训练集\\文本信息\\3s\\训练文本特征.csv',encoding='UTF-8'))\n",
    "y_datatr=labeltr.iloc[:,[0,1,2,3,4,5,6,7,8,9,10,11,12]].values  #特征嵌入\n",
    "print(y_datatr[0])\n",
    "print(y_datatr.shape)\n",
    "\n",
    "\n",
    "\n"
   ]
  },
  {
   "cell_type": "code",
   "execution_count": 6,
   "metadata": {},
   "outputs": [
    {
     "name": "stdout",
     "output_type": "stream",
     "text": [
      "(5676, 1)\n",
      "[4.0161749]\n",
      "(5676, 12)\n",
      "[-2.44590229 -1.05275547 -0.37217339 -5.12400814 -2.33826046  1.39035392\n",
      "  1.62555399  1.01908469 -0.37389845 -2.19619784 -0.3752915  -3.89165263]\n"
     ]
    }
   ],
   "source": [
    "train_y=y_datatr[:,[12]]\n",
    "train_feature=y_datatr[:,[0,1,2,3,4,5,6,7,8,9,10,11]]\n",
    "print(train_y.shape)\n",
    "print(train_y[0])\n",
    "\n",
    "print(train_feature.shape)\n",
    "print(train_feature[0])"
   ]
  },
  {
   "cell_type": "code",
   "execution_count": 7,
   "metadata": {},
   "outputs": [],
   "source": [
    "#时域模态 训练\n",
    "train_xt=[]\n",
    "for i in range(len(x_datatr)):\n",
    "    train_xt.append(np.array(x_datatr[i].reshape(3,1,300)).T)"
   ]
  },
  {
   "cell_type": "code",
   "execution_count": 8,
   "metadata": {},
   "outputs": [],
   "source": [
    "#频域模态 训练\n",
    "train_xs=[]\n",
    "for i in range(len(x_datastr)):\n",
    "    train_xs.append(np.array(x_datastr[i].reshape(3,1,150)).T)"
   ]
  },
  {
   "cell_type": "code",
   "execution_count": 9,
   "metadata": {},
   "outputs": [],
   "source": [
    "train_xt=np.array(train_xt)\n",
    "\n",
    "train_xs=np.array(train_xs)"
   ]
  },
  {
   "cell_type": "code",
   "execution_count": 10,
   "metadata": {},
   "outputs": [
    {
     "name": "stdout",
     "output_type": "stream",
     "text": [
      "0 5676\n",
      "1 300\n",
      "(5676, 300, 3)\n",
      "0 5676\n",
      "1 150\n",
      "(5676, 150, 3)\n"
     ]
    }
   ],
   "source": [
    "#3#  ##Reshaping\n",
    "#时域\n",
    "train_xt = np.reshape(train_xt, (train_xt.shape[0], 300, 3))\n",
    "print(\"0\",train_xt.shape[0])\n",
    "print(\"1\",train_xt.shape[1])\n",
    "print(train_xt.shape)\n",
    "\n",
    "#频域\n",
    "train_xs = np.reshape(train_xs, (train_xs.shape[0], 150, 3))\n",
    "print(\"0\",train_xs.shape[0])\n",
    "print(\"1\",train_xs.shape[1])\n",
    "print(train_xs.shape)"
   ]
  },
  {
   "cell_type": "code",
   "execution_count": 11,
   "metadata": {},
   "outputs": [
    {
     "name": "stdout",
     "output_type": "stream",
     "text": [
      "(150,)\n"
     ]
    },
    {
     "data": {
      "image/png": "[encoded data removed]",
      "text/plain": [
       "<Figure size 432x288 with 1 Axes>"
      ]
     },
     "metadata": {
      "needs_background": "light"
     },
     "output_type": "display_data"
    }
   ],
   "source": [
    "import matplotlib.pyplot as plt  # 导入图形展示库\n",
    "plt.plot(train_xs[0,:,0],'.')\n",
    "print(train_xs[0,:,0].shape)\n",
    "#print(train_xs[0,:,0].shape)"
   ]
  },
  {
   "cell_type": "markdown",
   "metadata": {},
   "source": [
    "# 测试集"
   ]
  },
  {
   "cell_type": "code",
   "execution_count": 12,
   "metadata": {},
   "outputs": [
    {
     "name": "stdout",
     "output_type": "stream",
     "text": [
      "(2392, 900)\n"
     ]
    }
   ],
   "source": [
    "#时域模态信息\n",
    "\n",
    "import scipy.io as scio\n",
    "import pandas as pd\n",
    "\n",
    "#1 input\n",
    "feature1te = r'\\测试集\\时域\\ACC_EW.mat'\n",
    "data1te = scio.loadmat(feature1te)\n",
    "AAte=data1te['ACC_EW']\n",
    "Ate=AAte[:,0:300]\n",
    "\n",
    "feature2te = r'\\测试集\\时域\\ACC_NS.mat'\n",
    "data2te = scio.loadmat(feature2te)\n",
    "BBte=data2te['ACC_NS']\n",
    "Bte=BBte[:,0:300]\n",
    "\n",
    "feature3te = r'\\测试集\\时域\\ACC_UD.mat'\n",
    "data3te = scio.loadmat(feature3te)\n",
    "CCte=data3te['ACC_UD']\n",
    "Cte=CCte[:,0:300]\n",
    "\n",
    "\n",
    "raw_data1te=np.hstack((Ate,Bte))\n",
    "x_datate=np.hstack((raw_data1te,Cte))\n",
    "\n",
    "print(x_datate.shape)\n",
    "\n"
   ]
  },
  {
   "cell_type": "code",
   "execution_count": 13,
   "metadata": {},
   "outputs": [
    {
     "name": "stdout",
     "output_type": "stream",
     "text": [
      "(2392, 450)\n"
     ]
    }
   ],
   "source": [
    "#频域模态信息\n",
    "\n",
    "import scipy.io as scio\n",
    "import pandas as pd\n",
    "\n",
    "#input\n",
    "feature1ste = r'\\测试集\\频谱\\3s\\spec_EW_seismic.mat'\n",
    "data1ste = scio.loadmat(feature1ste)\n",
    "AAste=data1ste['spec_EW_seismic']\n",
    "Aste=AAste[:,0:150]\n",
    "\n",
    "feature2ste = r'\\测试集\\频谱\\3s\\spec_NS_seismic.mat'\n",
    "data2ste = scio.loadmat(feature2ste)\n",
    "BBste=data2ste['spec_NS_seismic']\n",
    "Bste=BBste[:,0:150]\n",
    "\n",
    "feature3ste = r'\\测试集\\频谱\\3s\\spec_UD_seismic.mat'\n",
    "data3ste = scio.loadmat(feature3ste)\n",
    "CCste=data3ste['spec_UD_seismic']\n",
    "Cste=CCste[:,0:150]\n",
    "\n",
    "\n",
    "\n",
    "\n",
    "raw_data1ste=np.hstack((Aste,Bste))\n",
    "x_dataste=np.hstack((raw_data1ste,Cste))\n",
    "\n",
    "\n",
    "print(x_dataste.shape)\n",
    "\n"
   ]
  },
  {
   "cell_type": "code",
   "execution_count": 14,
   "metadata": {},
   "outputs": [
    {
     "name": "stdout",
     "output_type": "stream",
     "text": [
      "[-2.71412519 -1.14430233 -0.98776559 -5.4456713  -2.68815677  1.1575801\n",
      "  1.19418827  0.82440256 -0.5149543  -3.40708966 -0.80705893 -4.80028983\n",
      "  2.26057671]\n",
      "(2392, 13)\n"
     ]
    }
   ],
   "source": [
    "#特征模态信息\n",
    "\n",
    "import scipy.io as scio\n",
    "import pandas as pd\n",
    "\n",
    "labelte = pd.read_csv(open(r'\\测试集\\文本信息\\3s\\测试文本特征.csv',encoding='UTF-8'))\n",
    "y_datate=labelte.iloc[:,[0,1,2,3,4,5,6,7,8,9,10,11,12]].values  #特征嵌入\n",
    "print(y_datate[0])\n",
    "print(y_datate.shape)\n"
   ]
  },
  {
   "cell_type": "code",
   "execution_count": 15,
   "metadata": {},
   "outputs": [
    {
     "name": "stdout",
     "output_type": "stream",
     "text": [
      "(2392, 1)\n",
      "[2.26057671]\n",
      "(2392, 12)\n",
      "[-2.71412519 -1.14430233 -0.98776559 -5.4456713  -2.68815677  1.1575801\n",
      "  1.19418827  0.82440256 -0.5149543  -3.40708966 -0.80705893 -4.80028983]\n"
     ]
    }
   ],
   "source": [
    "test_y=y_datate[:,[12]]\n",
    "test_feature=y_datate[:,[0,1,2,3,4,5,6,7,8,9,10,11]]\n",
    "print(test_y.shape)\n",
    "print(test_y[0])\n",
    "\n",
    "print(test_feature.shape)\n",
    "print(test_feature[0])"
   ]
  },
  {
   "cell_type": "code",
   "execution_count": 16,
   "metadata": {},
   "outputs": [],
   "source": [
    "#时域模态 测试\n",
    "test_xt=[]\n",
    "for i in range(len(x_datate)):\n",
    "    test_xt.append(np.array(x_datate[i].reshape(3,1,300)).T)"
   ]
  },
  {
   "cell_type": "code",
   "execution_count": 17,
   "metadata": {},
   "outputs": [],
   "source": [
    "#频域模态 测试\n",
    "test_xs=[]\n",
    "for i in range(len(x_dataste)):\n",
    "    test_xs.append(np.array(x_dataste[i].reshape(3,1,150)).T)"
   ]
  },
  {
   "cell_type": "code",
   "execution_count": 18,
   "metadata": {},
   "outputs": [],
   "source": [
    "test_xt=np.array(test_xt)\n",
    "\n",
    "test_xs=np.array(test_xs)"
   ]
  },
  {
   "cell_type": "code",
   "execution_count": 19,
   "metadata": {},
   "outputs": [
    {
     "name": "stdout",
     "output_type": "stream",
     "text": [
      "0 2392\n",
      "1 300\n",
      "(2392, 300, 3)\n",
      "0 2392\n",
      "1 150\n",
      "(2392, 150, 3)\n"
     ]
    }
   ],
   "source": [
    "#3#  ##Reshaping\n",
    "#时域\n",
    "test_xt = np.reshape(test_xt, (test_xt.shape[0], 300, 3))\n",
    "print(\"0\",test_xt.shape[0])\n",
    "print(\"1\",test_xt.shape[1])\n",
    "print(test_xt.shape)\n",
    "\n",
    "#频域\n",
    "test_xs = np.reshape(test_xs, (test_xs.shape[0], 150, 3))\n",
    "print(\"0\",test_xs.shape[0])\n",
    "print(\"1\",test_xs.shape[1])\n",
    "print(test_xs.shape)"
   ]
  },
  {
   "cell_type": "code",
   "execution_count": 20,
   "metadata": {},
   "outputs": [
    {
     "name": "stdout",
     "output_type": "stream",
     "text": [
      "(150,)\n"
     ]
    },
    {
     "data": {
      "image/png": "[encoded data removed]",
      "text/plain": [
       "<Figure size 432x288 with 1 Axes>"
      ]
     },
     "metadata": {
      "needs_background": "light"
     },
     "output_type": "display_data"
    }
   ],
   "source": [
    "#import matplotlib.pyplot as plt  # 导入图形展示库\n",
    "plt.plot(test_xs[10,:,0],'.')\n",
    "print(test_xs[0,:,0].shape)\n",
    "#print(test_xs[0,1,:,0].shape)"
   ]
  },
  {
   "cell_type": "code",
   "execution_count": 21,
   "metadata": {},
   "outputs": [],
   "source": [
    "import numpy as np\n",
    "import pandas as pd\n",
    "from datetime import date, timedelta\n",
    "import os\n",
    "import random\n",
    "import matplotlib.pyplot as plt\n",
    "from tqdm import tqdm\n",
    "from scipy.stats import skew, kurtosis\n",
    "\n",
    "from sklearn.preprocessing import StandardScaler\n",
    "from sklearn.metrics import mean_squared_error\n",
    "from tensorflow.keras import layers,Sequential,losses,optimizers,datasets\n",
    "\n",
    "import tensorflow as tf\n",
    "from tensorflow import keras\n",
    "from tensorflow.keras.layers import *\n",
    "from tensorflow.keras.models import *\n",
    "from tensorflow.keras.optimizers import *\n",
    "from tensorflow.keras.callbacks import *\n",
    "from tensorflow.keras import backend as K\n",
    "\n",
    "\n",
    "from keras import backend as K\n",
    "from keras.engine.topology import Layer\n",
    "class GlobalAttentionLayer(layers.Layer):\n",
    "    def __init__(self, units, **kwargs):\n",
    "        super(GlobalAttentionLayer, self).__init__(**kwargs)\n",
    "        self.dense1 = layers.Dense(units, activation='tanh')\n",
    "        self.dense2 = layers.Dense(1, activation='softmax')  # 注意：这里的softmax实际上是为了归一化，但后续会处理\n",
    "        self.mul = layers.Multiply()\n",
    " \n",
    "    def call(self, inputs, mask=None):\n",
    "        attention_scores = self.dense1(inputs)\n",
    "        # 为了在序列长度维度上应用softmax，我们直接对scores应用softmax\n",
    "        # 注意：这里的softmax是为了生成权重，但因为我们只需要加权和，所以实际上不需要显式地归一化到1（但这样做也无妨）\n",
    "        attention_weights = tf.nn.softmax(self.dense2(attention_scores), axis=1)\n",
    "        \n",
    "        # 将注意力权重与输入序列相乘并求和得到加权和\n",
    "        weighted_sum = self.mul([inputs, tf.expand_dims(attention_weights, -1)])\n",
    "        weighted_sum = tf.reduce_sum(weighted_sum, axis=1)\n",
    "        \n",
    "        return weighted_sum"
   ]
  },
  {
   "cell_type": "code",
   "execution_count": 22,
   "metadata": {},
   "outputs": [],
   "source": [
    "seed=50\n",
    "drop_rate = 0.2\n",
    "def Timedomain(x):\n",
    "\n",
    "    x = tf.keras.layers.Conv1D(256, 3, activation='relu', padding='same',\\\n",
    "                            kernel_initializer=keras.initializers.he_normal(seed=2020),\\\n",
    "                            bias_initializer=keras.initializers.he_normal(seed=2020))(x)  \n",
    "    x = tf.keras.layers.MaxPooling1D(pool_size=2,strides=2,padding=\"same\")(x) # 高宽各减半的池化层  pool_size=2,strides=2,\n",
    "\n",
    "    x = tf.keras.layers.Conv1D(128, 3, activation='relu', padding='same',\\\n",
    "                            kernel_initializer=keras.initializers.he_normal(seed=2020),\\\n",
    "                            bias_initializer=keras.initializers.he_normal(seed=2020))(x)  \n",
    "    x = tf.keras.layers.MaxPooling1D(pool_size=2,strides=2,padding=\"same\")(x) # 高宽各减半的池化层  pool_size=2,strides=2,\n",
    "    \n",
    "    x = tf.keras.layers.Conv1D(64, 3, activation='relu', padding='same',\\\n",
    "                            kernel_initializer=keras.initializers.he_normal(seed=2020),\\\n",
    "                            bias_initializer=keras.initializers.he_normal(seed=2020))(x)  \n",
    "    x = tf.keras.layers.MaxPooling1D(pool_size=2,strides=2,padding=\"same\")(x) # 高宽各减半的池化层  pool_size=2,strides=2,\n",
    "    \n",
    "    \n",
    "\n",
    "    x = tf.keras.layers.Dropout(rate=0.2)(x) #0.458\n",
    "    \n",
    "\n",
    "\n",
    "    \n",
    "    x = tf.keras.layers.Bidirectional(GRU(256,use_bias=True, return_sequences = False,activation='tanh',\\\n",
    "                                          kernel_initializer=keras.initializers.he_normal(seed=2020),\\\n",
    "                                          bias_initializer=keras.initializers.he_normal(seed=2020),recurrent_activation='sigmoid',\\\n",
    "                                          reset_after = True,recurrent_dropout=0,unroll=False,\\\n",
    "                                          recurrent_initializer=keras.initializers.he_normal(seed=2020)))(x)\n",
    "    x = tf.keras.layers.Dropout(rate=0.2)(x) #0.458   \n",
    "    \n",
    "    return x\n",
    "\n",
    "def Specdomain(x):\n",
    "    \n",
    "    x = tf.keras.layers.Conv1D(64, 3, activation='relu', padding='same',\\\n",
    "                            kernel_initializer=keras.initializers.he_normal(seed=2020),\\\n",
    "                            bias_initializer=keras.initializers.he_normal(seed=2020))(x)  \n",
    "    x = tf.keras.layers.MaxPooling1D(pool_size=2,strides=2,padding=\"same\")(x) # 高宽各减半的池化层  pool_size=2\n",
    "      \n",
    "    \n",
    "    \n",
    "    \n",
    "    x = tf.keras.layers.Conv1D(32, 3, activation='relu', padding='same',\\\n",
    "                            kernel_initializer=keras.initializers.he_normal(seed=2020),\\\n",
    "                            bias_initializer=keras.initializers.he_normal(seed=2020))(x)  \n",
    "    x = tf.keras.layers.MaxPooling1D(pool_size=2,strides=2,padding=\"same\")(x) # 高宽各减半的池化层  pool_size=2\n",
    "    x = tf.keras.layers.Dropout(rate=0.2)(x) #0.458\n",
    "      \n",
    "    \n",
    "\n",
    "\n",
    "       \n",
    "    x = tf.keras.layers.Bidirectional(GRU(64,use_bias=True, return_sequences = True,activation='tanh',\\\n",
    "                                          kernel_initializer=keras.initializers.he_normal(seed=2020),\\\n",
    "                                          bias_initializer=keras.initializers.he_normal(seed=2020),recurrent_activation='sigmoid',\\\n",
    "                                          reset_after = True,recurrent_dropout=0,unroll=False,\\\n",
    "                                          recurrent_initializer=keras.initializers.he_normal(seed=2020)))(x)    \n",
    "\n",
    "    x = tf.keras.layers.Bidirectional(GRU(32,use_bias=True, return_sequences = False,activation='tanh',\\\n",
    "                                          kernel_initializer=keras.initializers.he_normal(seed=2020),\\\n",
    "                                          bias_initializer=keras.initializers.he_normal(seed=2020),recurrent_activation='sigmoid',\\\n",
    "                                          reset_after = True,recurrent_dropout=0,unroll=False,\\\n",
    "                                          recurrent_initializer=keras.initializers.he_normal(seed=2020)))(x)\n",
    "    x = tf.keras.layers.Dropout(rate=0.2)(x) #0.458\n",
    "    \n",
    "    return x\n",
    "\n",
    "\n",
    "def Features(x):\n",
    "    x = Dense(128, activation='relu')(x)#relu\n",
    "    x = Dense(128, activation='relu')(x)#relu\n",
    "\n",
    "\n",
    "    \n",
    "    return x\n",
    "    \n"
   ]
  },
  {
   "cell_type": "code",
   "execution_count": 23,
   "metadata": {},
   "outputs": [],
   "source": [
    "seed=50\n",
    "drop_rate = 0.2\n",
    "from tensorflow import keras\n",
    "from keras.models import Model\n",
    "def CRmodel():\n",
    "    inpt1 = Input(shape=(300, 3), name='input_layer1') #时域\n",
    "    inpt2 = Input(shape=(150, 3), name='input_layer2') #频域\n",
    "    \n",
    "\n",
    "    \n",
    "    x1 = Timedomain(inpt1)\n",
    "    \n",
    "    x2 = Specdomain(inpt2)\n",
    "\n",
    "    \n",
    "\n",
    "    inpt3 = tf.keras.layers.Input(shape=(12,1))   #加入特征模态\n",
    "    x3 = Features(inpt3)\n",
    "    x3 = tf.keras.layers.Flatten()(x3) # 打平层，方便全连接层处理\n",
    "    #x3 = Features(inpt3)\n",
    "\n",
    "    concat = tf.keras.layers.Concatenate()([x1, x2, x3])\n",
    "    concat = GlobalAttentionLayer(256)(concat)##256\n",
    "    \n",
    "\n",
    "    e = Dense(32, activation='relu')(concat)#relu\n",
    "    \n",
    "    oupts = Dense(1)(e)\n",
    "\n",
    "#    \n",
    "    model=Model(inputs=[inpt1,inpt2,inpt3], outputs=oupts)\n",
    "    #model=Model(inputs=inpt2, outputs=z)\n",
    "    return model"
   ]
  },
  {
   "cell_type": "code",
   "execution_count": 24,
   "metadata": {},
   "outputs": [
    {
     "name": "stdout",
     "output_type": "stream",
     "text": [
      "Model: \"functional_1\"\n",
      "__________________________________________________________________________________________________\n",
      "Layer (type)                    Output Shape         Param #     Connected to                     \n",
      "==================================================================================================\n",
      "input_layer1 (InputLayer)       [(None, 300, 3)]     0                                            \n",
      "__________________________________________________________________________________________________\n",
      "conv1d (Conv1D)                 (None, 300, 256)     2560        input_layer1[0][0]               \n",
      "__________________________________________________________________________________________________\n",
      "input_layer2 (InputLayer)       [(None, 150, 3)]     0                                            \n",
      "__________________________________________________________________________________________________\n",
      "max_pooling1d (MaxPooling1D)    (None, 150, 256)     0           conv1d[0][0]                     \n",
      "__________________________________________________________________________________________________\n",
      "conv1d_3 (Conv1D)               (None, 150, 64)      640         input_layer2[0][0]               \n",
      "__________________________________________________________________________________________________\n",
      "conv1d_1 (Conv1D)               (None, 150, 128)     98432       max_pooling1d[0][0]              \n",
      "__________________________________________________________________________________________________\n",
      "max_pooling1d_3 (MaxPooling1D)  (None, 75, 64)       0           conv1d_3[0][0]                   \n",
      "__________________________________________________________________________________________________\n",
      "max_pooling1d_1 (MaxPooling1D)  (None, 75, 128)      0           conv1d_1[0][0]                   \n",
      "__________________________________________________________________________________________________\n",
      "conv1d_4 (Conv1D)               (None, 75, 32)       6176        max_pooling1d_3[0][0]            \n",
      "__________________________________________________________________________________________________\n",
      "conv1d_2 (Conv1D)               (None, 75, 64)       24640       max_pooling1d_1[0][0]            \n",
      "__________________________________________________________________________________________________\n",
      "max_pooling1d_4 (MaxPooling1D)  (None, 38, 32)       0           conv1d_4[0][0]                   \n",
      "__________________________________________________________________________________________________\n",
      "max_pooling1d_2 (MaxPooling1D)  (None, 38, 64)       0           conv1d_2[0][0]                   \n",
      "__________________________________________________________________________________________________\n",
      "dropout_2 (Dropout)             (None, 38, 32)       0           max_pooling1d_4[0][0]            \n",
      "__________________________________________________________________________________________________\n",
      "input_1 (InputLayer)            [(None, 12, 1)]      0                                            \n",
      "__________________________________________________________________________________________________\n",
      "dropout (Dropout)               (None, 38, 64)       0           max_pooling1d_2[0][0]            \n",
      "__________________________________________________________________________________________________\n",
      "bidirectional_1 (Bidirectional) (None, 38, 128)      37632       dropout_2[0][0]                  \n",
      "__________________________________________________________________________________________________\n",
      "dense (Dense)                   (None, 12, 128)      256         input_1[0][0]                    \n",
      "__________________________________________________________________________________________________\n",
      "bidirectional (Bidirectional)   (None, 512)          494592      dropout[0][0]                    \n",
      "__________________________________________________________________________________________________\n",
      "bidirectional_2 (Bidirectional) (None, 64)           31104       bidirectional_1[0][0]            \n",
      "__________________________________________________________________________________________________\n",
      "dense_1 (Dense)                 (None, 12, 128)      16512       dense[0][0]                      \n",
      "__________________________________________________________________________________________________\n",
      "dropout_1 (Dropout)             (None, 512)          0           bidirectional[0][0]              \n",
      "__________________________________________________________________________________________________\n",
      "dropout_3 (Dropout)             (None, 64)           0           bidirectional_2[0][0]            \n",
      "__________________________________________________________________________________________________\n",
      "flatten (Flatten)               (None, 1536)         0           dense_1[0][0]                    \n",
      "__________________________________________________________________________________________________\n",
      "concatenate (Concatenate)       (None, 2112)         0           dropout_1[0][0]                  \n",
      "                                                                 dropout_3[0][0]                  \n",
      "                                                                 flatten[0][0]                    \n",
      "__________________________________________________________________________________________________\n",
      "local_attention_layer (LocalAtt (None, 2112)         541185      concatenate[0][0]                \n",
      "__________________________________________________________________________________________________\n",
      "dense_4 (Dense)                 (None, 32)           67616       local_attention_layer[0][0]      \n",
      "__________________________________________________________________________________________________\n",
      "dense_5 (Dense)                 (None, 1)            33          dense_4[0][0]                    \n",
      "==================================================================================================\n",
      "Total params: 1,321,378\n",
      "Trainable params: 1,321,378\n",
      "Non-trainable params: 0\n",
      "__________________________________________________________________________________________________\n"
     ]
    }
   ],
   "source": [
    "#优点：由于DNN几乎可以拟合任何函数，所以DNN的非线性拟合能力非常强。往往深而窄的网络要更节约资源。\n",
    "from keras.layers import Dense,SimpleRNN,Embedding,GRU,Bidirectional\n",
    "from keras import regularizers\n",
    "from tensorflow.keras import layers,Sequential,losses,optimizers,datasets\n",
    "from keras.callbacks import EarlyStopping\n",
    "from keras.callbacks import ReduceLROnPlateau\n",
    "from sklearn.utils import class_weight\n",
    "from keras.layers import Dense,SimpleRNN,Embedding,GRU,Bidirectional\n",
    "from keras import regularizers\n",
    "\n",
    "\n",
    "model = CRmodel()\n",
    "model.summary()"
   ]
  },
  {
   "cell_type": "code",
   "execution_count": 25,
   "metadata": {},
   "outputs": [],
   "source": [
    "### TRAIN A MODEL FOR EACH STORES USING ALL THE DATA AVAILALBE FROM OTHER STORES ###\n",
    "\n",
    "seed = 2020\n",
    "random.seed = 2020\n",
    "np.random.seed = 2020\n",
    "tf.seed = 2020\n",
    "tf.random.set_seed(2020)\n"
   ]
  },
  {
   "cell_type": "code",
   "execution_count": 26,
   "metadata": {},
   "outputs": [
    {
     "name": "stdout",
     "output_type": "stream",
     "text": [
      "Epoch 1/500\n",
      "40/40 [==============================] - 5s 124ms/step - loss: 1.3991 - val_loss: 0.6958\n",
      "Epoch 2/500\n",
      "40/40 [==============================] - 3s 69ms/step - loss: 0.7241 - val_loss: 0.6002\n",
      "Epoch 3/500\n",
      "40/40 [==============================] - 3s 70ms/step - loss: 0.6989 - val_loss: 0.5847TA: 1s - loss: 0.7 - E\n",
      "Epoch 4/500\n",
      "40/40 [==============================] - 3s 69ms/step - loss: 0.6491 - val_loss: 0.5901\n",
      "Epoch 5/500\n",
      "40/40 [==============================] - 3s 69ms/step - loss: 0.6481 - val_loss: 0.5632\n",
      "Epoch 6/500\n",
      "40/40 [==============================] - 3s 69ms/step - loss: 0.6179 - val_loss: 0.5659\n",
      "Epoch 7/500\n",
      "40/40 [==============================] - 3s 69ms/step - loss: 0.6187 - val_loss: 0.5594\n",
      "Epoch 8/500\n",
      "40/40 [==============================] - 3s 69ms/step - loss: 0.6139 - val_loss: 0.5761\n",
      "Epoch 9/500\n",
      "40/40 [==============================] - 3s 69ms/step - loss: 0.6119 - val_loss: 0.5508\n",
      "Epoch 10/500\n",
      "40/40 [==============================] - 3s 70ms/step - loss: 0.5999 - val_loss: 0.5627\n",
      "Epoch 11/500\n",
      "40/40 [==============================] - 3s 69ms/step - loss: 0.5944 - val_loss: 0.5486\n",
      "Epoch 12/500\n",
      "40/40 [==============================] - 3s 69ms/step - loss: 0.6059 - val_loss: 0.6308\n",
      "Epoch 13/500\n",
      "40/40 [==============================] - 3s 69ms/step - loss: 0.5878 - val_loss: 0.5586\n",
      "Epoch 14/500\n",
      "40/40 [==============================] - 3s 69ms/step - loss: 0.5703 - val_loss: 0.5434\n",
      "Epoch 15/500\n",
      "40/40 [==============================] - 3s 69ms/step - loss: 0.5949 - val_loss: 0.5377\n",
      "Epoch 16/500\n",
      "40/40 [==============================] - 3s 69ms/step - loss: 0.5571 - val_loss: 0.5262\n",
      "Epoch 17/500\n",
      "40/40 [==============================] - 3s 69ms/step - loss: 0.5737 - val_loss: 0.5255\n",
      "Epoch 18/500\n",
      "40/40 [==============================] - 3s 68ms/step - loss: 0.5579 - val_loss: 0.5735\n",
      "Epoch 19/500\n",
      "40/40 [==============================] - 3s 68ms/step - loss: 0.5546 - val_loss: 0.5292\n",
      "Epoch 20/500\n",
      "40/40 [==============================] - 3s 68ms/step - loss: 0.5516 - val_loss: 0.6067\n",
      "Epoch 21/500\n",
      "40/40 [==============================] - 3s 68ms/step - loss: 0.5491 - val_loss: 0.5344\n",
      "Epoch 22/500\n",
      "40/40 [==============================] - 3s 70ms/step - loss: 0.5506 - val_loss: 0.5551\n",
      "Epoch 23/500\n",
      "40/40 [==============================] - ETA: 0s - loss: 0.520 - 3s 72ms/step - loss: 0.5208 - val_loss: 0.5413\n",
      "Epoch 24/500\n",
      "40/40 [==============================] - 3s 73ms/step - loss: 0.5128 - val_loss: 0.5364\n",
      "Epoch 25/500\n",
      "40/40 [==============================] - 3s 73ms/step - loss: 0.5121 - val_loss: 0.5388\n",
      "Epoch 26/500\n",
      "40/40 [==============================] - 3s 75ms/step - loss: 0.5076 - val_loss: 0.5416\n",
      "Epoch 27/500\n",
      "40/40 [==============================] - 3s 71ms/step - loss: 0.5090 - val_loss: 0.5406\n"
     ]
    }
   ],
   "source": [
    "import time\n",
    "import datetime\n",
    "epochs=500  # how many passes through our data\n",
    "\n",
    "\n",
    "lr_reducer = ReduceLROnPlateau(monitor='val_loss',\n",
    "                               factor=0.1,\n",
    "                                cooldown= 0,\n",
    "                                patience= 5, #patience= 5\n",
    "                                min_lr=0.5e-6) #min_lr=0.5e-6\n",
    "\n",
    "early_stopping_monitor = EarlyStopping(monitor= 'val_loss', patience = 10) #patience = 45   10\n",
    "callbacks = [lr_reducer, early_stopping_monitor]\n",
    "\n",
    "rms = optimizers.Adam(lr=0.001, beta_1=0.9, beta_2=0.999, epsilon=1e-08)\n",
    "model.compile(optimizer=rms, loss='mean_squared_error')\n",
    "#loss=losses.sparse_categorical_crossentropy\n",
    "#loss='categorical_crossentropy\n",
    "\n",
    "#history=multi_head.fit([train_x,train_site], one_hot_train_labels, epochs = epochs,batch_size = 64,validation_split=0.1,\\\n",
    "#                    shuffle=True,callbacks=callbacks) # ,callbacks=callbacks   batch_size = 256   ,class_weight=weights\n",
    " \n",
    "history=model.fit([train_xt,train_xs,train_feature], train_y, epochs = epochs,batch_size = 128,shuffle=True,\\\n",
    "                  validation_split=0.1,callbacks=callbacks) # batch_size = 128   \n",
    "#end = time.time()\n",
    "\n",
    "#elapsed = end - start\n",
    "#print(datetime.timedelta(seconds=elapsed))"
   ]
  },
  {
   "cell_type": "code",
   "execution_count": 27,
   "metadata": {},
   "outputs": [],
   "source": [
    "#Epoch 22/500\n",
    "#40/40 [==============================] - 2s 59ms/step - loss: 0.4740 - val_loss: 0.5922"
   ]
  },
  {
   "cell_type": "code",
   "execution_count": 28,
   "metadata": {},
   "outputs": [
    {
     "data": {
      "image/png": "[encoded data removed]",
      "text/plain": [
       "<Figure size 432x288 with 1 Axes>"
      ]
     },
     "metadata": {
      "needs_background": "light"
     },
     "output_type": "display_data"
    }
   ],
   "source": [
    "loss = history.history['loss']\n",
    "val_loss = history.history['val_loss']\n",
    "epoch = history.epoch\n",
    "\n",
    "plt.plot(epoch,loss, label='loss')\n",
    "plt.plot(epoch, val_loss, label='val loss')\n",
    "plt.legend()\n",
    "plt.title('epochs vs loss')\n",
    "plt.show()\n"
   ]
  },
  {
   "cell_type": "code",
   "execution_count": 29,
   "metadata": {},
   "outputs": [
    {
     "name": "stdout",
     "output_type": "stream",
     "text": [
      "(27, 1)\n",
      "(27, 1)\n",
      "(27, 1)\n",
      "(27, 3)\n"
     ]
    }
   ],
   "source": [
    "loss=np.array(loss)\n",
    "val_loss=np.array(val_loss)\n",
    "epoch=np.array(epoch)\n",
    "\n",
    "loss=loss.reshape(loss.shape[0],1)\n",
    "val_loss=val_loss.reshape(val_loss.shape[0],1)\n",
    "epoch=epoch.reshape(epoch.shape[0],1)\n",
    "\n",
    "loss_zong=np.concatenate((epoch,loss,val_loss),axis=1)\n",
    "\n",
    "\n",
    "print(epoch.shape)\n",
    "print(val_loss.shape)\n",
    "print(loss.shape)\n",
    "print(loss_zong.shape)\n",
    "\n",
    "data_loss = pd.DataFrame(loss_zong) #将数组转换为dataframe结构\n",
    "data_loss.columns=['epoch','loss','val_loss']\n",
    "#writer_loss = pd.ExcelWriter(r'\\loss.xls')   # 写入Excel文件\n",
    "\n",
    "data_loss.to_excel(writer_loss,float_format='%.5f',index=False)   ## ‘page_1’是写入excel的sheet名\n",
    "writer_loss.save()\n",
    "writer_loss.close()"
   ]
  },
  {
   "cell_type": "code",
   "execution_count": null,
   "metadata": {},
   "outputs": [],
   "source": []
  },
  {
   "cell_type": "code",
   "execution_count": 29,
   "metadata": {},
   "outputs": [
    {
     "name": "stdout",
     "output_type": "stream",
     "text": [
      "训练标准差STD= 0.6937908650909117\n",
      "训练误差均值MEAN= -0.029419058629426835\n",
      "训练平均绝对误差MAE= 0.5416598892831437\n",
      "训练RMSE= 0.6944143183246132\n",
      "训练MAPE= 22.64177081616011\n",
      "训练r2 score: 0.7393920794848561\n"
     ]
    },
    {
     "data": {
      "image/png": "[encoded data removed]",
      "text/plain": [
       "<Figure size 360x360 with 1 Axes>"
      ]
     },
     "metadata": {
      "needs_background": "light"
     },
     "output_type": "display_data"
    }
   ],
   "source": [
    "pred_train_all = model.predict([train_xt,train_xs,train_feature]).ravel()\n",
    "\n",
    "\n",
    "from sklearn import metrics\n",
    "from sklearn.metrics import r2_score\n",
    "print(\"训练标准差STD=\",np.std(pred_train_all-train_y.ravel()))\n",
    "print(\"训练误差均值MEAN=\",np.mean(pred_train_all-train_y.ravel()))\n",
    "print(\"训练平均绝对误差MAE=\",metrics.mean_absolute_error(pred_train_all, train_y.ravel()))\n",
    "print(\"训练RMSE=\",metrics.mean_squared_error(pred_train_all, train_y.ravel())**0.5)\n",
    "print(\"训练MAPE=\",np.mean(np.abs((train_y.ravel() - pred_train_all) / train_y.ravel())) * 100)\n",
    "print(\"训练r2 score:\", r2_score(train_y.ravel(), pred_train_all))\n",
    "\n",
    "plt.figure(figsize=(5, 5))\n",
    "plt.axis('equal')\n",
    "\n",
    "x3 = np.arange(0, 12, 0.01)\n",
    "y3=x3\n",
    "plt.plot(x3, y3, \"black\")\n",
    "plt.plot(train_y.ravel(),pred_train_all,'.')\n",
    "plt.xlim(0, 12)\n",
    "plt.ylim(0, 12)\n",
    "plt.show()"
   ]
  },
  {
   "cell_type": "code",
   "execution_count": 31,
   "metadata": {},
   "outputs": [
    {
     "name": "stdout",
     "output_type": "stream",
     "text": [
      "(5676, 2)\n"
     ]
    }
   ],
   "source": [
    "#########################保存训练结果####################################\n",
    "train_pre=pred_train_all.reshape(pred_train_all.shape[0],1)\n",
    "tr_result=np.concatenate((train_y,train_pre),axis=1)\n",
    "\n",
    "print(tr_result.shape)\n",
    "\n",
    "data_tr = pd.DataFrame(tr_result) #将数组转换为dataframe结构\n",
    "data_tr.columns=['True-I','Pre-I']\n",
    "#writer_tr = pd.ExcelWriter(r'\\train.xls')   # 写入Excel文件\n",
    "\n",
    "data_tr.to_excel(writer_tr,float_format='%.5f',index=False)   ## ‘page_1’是写入excel的sheet名\n",
    "writer_tr.save()\n",
    "writer_tr.close()\n",
    "\n",
    "\n"
   ]
  },
  {
   "cell_type": "code",
   "execution_count": null,
   "metadata": {},
   "outputs": [],
   "source": []
  },
  {
   "cell_type": "code",
   "execution_count": null,
   "metadata": {},
   "outputs": [],
   "source": []
  },
  {
   "cell_type": "code",
   "execution_count": 30,
   "metadata": {},
   "outputs": [
    {
     "name": "stdout",
     "output_type": "stream",
     "text": [
      "测试标准差STD= 0.7345274342387028\n",
      "测试误差均值MEAN= 0.06934472821704986\n",
      "测试平均绝对误差MAE= 0.5842596567868157\n",
      "测试RMSE= 0.7377934961632479\n",
      "测试MAPE= 26.73553414432524\n",
      "测试r2 score: 0.7065673338718303\n"
     ]
    },
    {
     "data": {
      "image/png": "[encoded data removed]",
      "text/plain": [
       "<Figure size 360x360 with 1 Axes>"
      ]
     },
     "metadata": {
      "needs_background": "light"
     },
     "output_type": "display_data"
    }
   ],
   "source": [
    "pred_test_all = model.predict([test_xt,test_xs,test_feature]).ravel()  ##ravel() 转换成1列\n",
    "\n",
    "print(\"测试标准差STD=\",np.std(pred_test_all-test_y.ravel()))\n",
    "print(\"测试误差均值MEAN=\",np.mean(pred_test_all-test_y.ravel()))\n",
    "print(\"测试平均绝对误差MAE=\",metrics.mean_absolute_error(pred_test_all, test_y.ravel()))\n",
    "print(\"测试RMSE=\",metrics.mean_squared_error(pred_test_all, test_y.ravel())**0.5)\n",
    "print(\"测试MAPE=\",np.mean(np.abs((test_y.ravel() - pred_test_all) / test_y.ravel())) * 100)\n",
    "print(\"测试r2 score:\", r2_score(test_y.ravel(), pred_test_all))\n",
    "\n",
    "plt.figure(figsize=(5, 5))\n",
    "plt.axis('equal')\n",
    "\n",
    "x3 = np.arange(0, 12, 0.01)\n",
    "y3=x3\n",
    "plt.plot(x3, y3, \"black\")\n",
    "plt.plot(test_y.ravel(),pred_test_all,'.')\n",
    "plt.xlim(0, 12)\n",
    "plt.ylim(0, 12)\n",
    "plt.show()   "
   ]
  },
  {
   "cell_type": "code",
   "execution_count": 33,
   "metadata": {},
   "outputs": [
    {
     "name": "stdout",
     "output_type": "stream",
     "text": [
      "(2392, 2)\n"
     ]
    }
   ],
   "source": [
    "#########################保存测试结果####################################\n",
    "test_pre=pred_test_all.reshape(pred_test_all.shape[0],1)\n",
    "te_result=np.concatenate((test_y,test_pre),axis=1)\n",
    "\n",
    "print(te_result.shape)\n",
    "\n",
    "data_te = pd.DataFrame(te_result) #将数组转换为dataframe结构\n",
    "data_te.columns=['True-I','Pre-I']\n",
    "#writer_te = pd.ExcelWriter(r'\\test.xls')   # 写入Excel文件\n",
    "\n",
    "data_te.to_excel(writer_te,float_format='%.5f',index=False)   ## ‘page_1’是写入excel的sheet名\n",
    "writer_te.save()\n",
    "writer_te.close()\n",
    "\n"
   ]
  },
  {
   "cell_type": "code",
   "execution_count": null,
   "metadata": {},
   "outputs": [],
   "source": []
  },
  {
   "cell_type": "markdown",
   "metadata": {},
   "source": [
    "# 2024年6.8级定日地震震例分析"
   ]
  },
  {
   "cell_type": "code",
   "execution_count": 31,
   "metadata": {},
   "outputs": [
    {
     "name": "stdout",
     "output_type": "stream",
     "text": [
      "(32, 900)\n"
     ]
    }
   ],
   "source": [
    "#时域模态信息\n",
    "\n",
    "import scipy.io as scio\n",
    "import pandas as pd\n",
    "\n",
    "#1 input\n",
    "feature1zl = r'\\定日地震\\时域\\ACC_EW.mat'\n",
    "data1zl = scio.loadmat(feature1zl)\n",
    "AAzl=data1zl['ACC_EW']\n",
    "Azl=AAzl[:,0:300]\n",
    "\n",
    "feature2zl = r'\\定日地震\\时域\\ACC_NS.mat'\n",
    "data2zl = scio.loadmat(feature2zl)\n",
    "BBzl=data2zl['ACC_NS']\n",
    "Bzl=BBzl[:,0:300]\n",
    "\n",
    "feature3zl = r'\\定日地震\\时域\\ACC_UD.mat'\n",
    "data3zl = scio.loadmat(feature3zl)\n",
    "CCzl=data3zl['ACC_UD']\n",
    "Czl=CCzl[:,0:300]\n",
    "\n",
    "\n",
    "raw_data1zl=np.hstack((Azl,Bzl))\n",
    "x_datazl=np.hstack((raw_data1zl,Czl))\n",
    "\n",
    "print(x_datazl.shape)\n",
    "\n"
   ]
  },
  {
   "cell_type": "code",
   "execution_count": 32,
   "metadata": {},
   "outputs": [
    {
     "name": "stdout",
     "output_type": "stream",
     "text": [
      "(32, 450)\n"
     ]
    }
   ],
   "source": [
    "#频域模态信息\n",
    "\n",
    "import scipy.io as scio\n",
    "import pandas as pd\n",
    "\n",
    "#input\n",
    "feature1szl = r'\\定日地震\\频谱\\3s\\spec_EW_seismic.mat'\n",
    "data1szl = scio.loadmat(feature1szl)\n",
    "AAszl=data1szl['spec_EW_seismic']\n",
    "Aszl=AAszl[:,0:150]\n",
    "\n",
    "feature2szl = r'\\定日地震\\频谱\\3s\\spec_NS_seismic.mat'\n",
    "data2szl = scio.loadmat(feature2szl)\n",
    "BBszl=data2szl['spec_NS_seismic']\n",
    "Bszl=BBszl[:,0:150]\n",
    "\n",
    "feature3szl = r'\\定日地震\\频谱\\3s\\spec_UD_seismic.mat'\n",
    "data3szl = scio.loadmat(feature3szl)\n",
    "CCszl=data3szl['spec_UD_seismic']\n",
    "Cszl=CCszl[:,0:150]\n",
    "\n",
    "\n",
    "\n",
    "\n",
    "\n",
    "raw_data1szl=np.hstack((Aszl,Bszl))\n",
    "x_dataszl=np.hstack((raw_data1szl,Cszl))\n",
    "\n",
    "\n",
    "print(x_dataszl.shape)\n",
    "\n"
   ]
  },
  {
   "cell_type": "code",
   "execution_count": 33,
   "metadata": {},
   "outputs": [
    {
     "name": "stdout",
     "output_type": "stream",
     "text": [
      "[-0.81515093 -0.67427834 -0.14052542 -1.27093867 -1.80705182 -0.59734724\n",
      "  1.75897447  1.21697736  1.59987119 -0.94597893 -0.24290894 -3.56787003\n",
      "  2.28253444]\n",
      "(32, 13)\n"
     ]
    }
   ],
   "source": [
    "#特征模态信息\n",
    "\n",
    "import scipy.io as scio\n",
    "import pandas as pd\n",
    "\n",
    "labelzl = pd.read_csv(open(r'\\定日地震\\文本信息\\3s\\震例文本特征.csv',encoding='UTF-8'))\n",
    "y_datazl=labelzl.iloc[:,[0,1,2,3,4,5,6,7,8,9,10,11,12]].values  #特征嵌入\n",
    "print(y_datazl[0])\n",
    "print(y_datazl.shape)\n",
    "\n"
   ]
  },
  {
   "cell_type": "code",
   "execution_count": 34,
   "metadata": {},
   "outputs": [
    {
     "name": "stdout",
     "output_type": "stream",
     "text": [
      "(32, 1)\n",
      "[2.28253444]\n",
      "(32, 12)\n",
      "[-0.81515093 -0.67427834 -0.14052542 -1.27093867 -1.80705182 -0.59734724\n",
      "  1.75897447  1.21697736  1.59987119 -0.94597893 -0.24290894 -3.56787003]\n"
     ]
    }
   ],
   "source": [
    "testzl_y=y_datazl[:,[12]]\n",
    "testzl_feature=y_datazl[:,[0,1,2,3,4,5,6,7,8,9,10,11]]\n",
    "print(testzl_y.shape)\n",
    "print(testzl_y[0])\n",
    "\n",
    "print(testzl_feature.shape)\n",
    "print(testzl_feature[0])"
   ]
  },
  {
   "cell_type": "code",
   "execution_count": 35,
   "metadata": {},
   "outputs": [],
   "source": [
    "#时域模态 测试\n",
    "testzl_xt=[]\n",
    "for i in range(len(x_datazl)):\n",
    "    testzl_xt.append(np.array(x_datazl[i].reshape(3,1,300)).T)"
   ]
  },
  {
   "cell_type": "code",
   "execution_count": 36,
   "metadata": {},
   "outputs": [],
   "source": [
    "#频域模态 测试\n",
    "testzl_xs=[]\n",
    "for i in range(len(x_dataszl)):\n",
    "    testzl_xs.append(np.array(x_dataszl[i].reshape(3,1,150)).T)"
   ]
  },
  {
   "cell_type": "code",
   "execution_count": 37,
   "metadata": {},
   "outputs": [],
   "source": [
    "testzl_xt=np.array(testzl_xt)\n",
    "\n",
    "testzl_xs=np.array(testzl_xs)"
   ]
  },
  {
   "cell_type": "code",
   "execution_count": 38,
   "metadata": {},
   "outputs": [
    {
     "name": "stdout",
     "output_type": "stream",
     "text": [
      "0 32\n",
      "1 300\n",
      "(32, 300, 3)\n",
      "0 32\n",
      "1 150\n",
      "(32, 150, 3)\n"
     ]
    }
   ],
   "source": [
    "#3#  ##Reshaping\n",
    "#时域\n",
    "testzl_xt = np.reshape(testzl_xt, (testzl_xt.shape[0], 300, 3))\n",
    "print(\"0\",testzl_xt.shape[0])\n",
    "print(\"1\",testzl_xt.shape[1])\n",
    "print(testzl_xt.shape)\n",
    "\n",
    "#频域\n",
    "testzl_xs = np.reshape(testzl_xs, (testzl_xs.shape[0], 150, 3))\n",
    "print(\"0\",testzl_xs.shape[0])\n",
    "print(\"1\",testzl_xs.shape[1])\n",
    "print(testzl_xs.shape)"
   ]
  },
  {
   "cell_type": "code",
   "execution_count": 39,
   "metadata": {},
   "outputs": [
    {
     "name": "stdout",
     "output_type": "stream",
     "text": [
      "(150,)\n"
     ]
    },
    {
     "data": {
      "image/png": "[encoded data removed]",
      "text/plain": [
       "<Figure size 432x288 with 1 Axes>"
      ]
     },
     "metadata": {
      "needs_background": "light"
     },
     "output_type": "display_data"
    }
   ],
   "source": [
    "#import matplotlib.pyplot as plt  # 导入图形展示库\n",
    "plt.plot(testzl_xs[10,:,0],'.')\n",
    "print(testzl_xs[0,:,0].shape)\n",
    "#print(test_xs[0,1,:,0].shape)"
   ]
  },
  {
   "cell_type": "code",
   "execution_count": null,
   "metadata": {},
   "outputs": [],
   "source": []
  },
  {
   "cell_type": "code",
   "execution_count": 40,
   "metadata": {},
   "outputs": [
    {
     "name": "stdout",
     "output_type": "stream",
     "text": [
      "震例标准差STD= 0.9923312801685994\n",
      "震例误差均值MEAN= -0.17621173774095533\n",
      "震例平均绝对误差MAE= 0.7800814432458762\n",
      "震例RMSE= 1.0078551215917586\n",
      "震例MAPE= 22.769556225150197\n",
      "震例r2 score: 0.5392271502153148\n"
     ]
    },
    {
     "data": {
      "image/png": "[encoded data removed]",
      "text/plain": [
       "<Figure size 360x360 with 1 Axes>"
      ]
     },
     "metadata": {
      "needs_background": "light"
     },
     "output_type": "display_data"
    }
   ],
   "source": [
    "pred_testzl_all = model.predict([testzl_xt,testzl_xs,testzl_feature]).ravel()  ##ravel() 转换成1列\n",
    "\n",
    "print(\"震例标准差STD=\",np.std(pred_testzl_all-testzl_y.ravel()))\n",
    "print(\"震例误差均值MEAN=\",np.mean(pred_testzl_all-testzl_y.ravel()))\n",
    "print(\"震例平均绝对误差MAE=\",metrics.mean_absolute_error(pred_testzl_all, testzl_y.ravel()))\n",
    "print(\"震例RMSE=\",metrics.mean_squared_error(pred_testzl_all, testzl_y.ravel())**0.5)\n",
    "print(\"震例MAPE=\",np.mean(np.abs((testzl_y.ravel() - pred_testzl_all) / testzl_y.ravel())) * 100)\n",
    "print(\"震例r2 score:\", r2_score(testzl_y.ravel(), pred_testzl_all))\n",
    "\n",
    "plt.figure(figsize=(5, 5))\n",
    "plt.axis('equal')\n",
    "\n",
    "x3 = np.arange(0, 12, 0.01)\n",
    "y3=x3\n",
    "plt.plot(x3, y3, \"black\")\n",
    "plt.plot(testzl_y.ravel(),pred_testzl_all,'.')\n",
    "plt.xlim(0, 12)\n",
    "plt.ylim(0, 12)\n",
    "plt.show()   "
   ]
  },
  {
   "cell_type": "code",
   "execution_count": 41,
   "metadata": {},
   "outputs": [
    {
     "name": "stdout",
     "output_type": "stream",
     "text": [
      "(32, 2)\n"
     ]
    }
   ],
   "source": [
    "#########################保存测试结果####################################\n",
    "testzl_pre=pred_testzl_all.reshape(pred_testzl_all.shape[0],1)\n",
    "tezl_result=np.concatenate((testzl_y,testzl_pre),axis=1)\n",
    "\n",
    "print(tezl_result.shape)\n",
    "\n",
    "data_tezl = pd.DataFrame(tezl_result) #将数组转换为dataframe结构\n",
    "data_tezl.columns=['True-I','Pre-I']\n",
    "writer_tezl = pd.ExcelWriter(r'\\震例.xls')   # 写入Excel文件\n",
    "\n",
    "data_tezl.to_excel(writer_tezl,float_format='%.5f',index=False)   ## ‘page_1’是写入excel的sheet名\n",
    "writer_tezl.save()\n",
    "writer_tezl.close()\n"
   ]
  },
  {
   "cell_type": "code",
   "execution_count": null,
   "metadata": {},
   "outputs": [],
   "source": []
  },
  {
   "cell_type": "code",
   "execution_count": null,
   "metadata": {},
   "outputs": [],
   "source": []
  },
  {
   "cell_type": "code",
   "execution_count": null,
   "metadata": {},
   "outputs": [],
   "source": []
  },
  {
   "cell_type": "code",
   "execution_count": null,
   "metadata": {},
   "outputs": [],
   "source": []
  },
  {
   "cell_type": "code",
   "execution_count": null,
   "metadata": {},
   "outputs": [],
   "source": []
  }
 ],
 "metadata": {
  "anaconda-cloud": {},
  "kernelspec": {
   "display_name": "Python 3",
   "language": "python",
   "name": "python3"
  },
  "language_info": {
   "codemirror_mode": {
    "name": "ipython",
    "version": 3
   },
   "file_extension": ".py",
   "mimetype": "text/x-python",
   "name": "python",
   "nbconvert_exporter": "python",
   "pygments_lexer": "ipython3",
   "version": "3.7.0"
  }
 },
 "nbformat": 4,
 "nbformat_minor": 1
}
